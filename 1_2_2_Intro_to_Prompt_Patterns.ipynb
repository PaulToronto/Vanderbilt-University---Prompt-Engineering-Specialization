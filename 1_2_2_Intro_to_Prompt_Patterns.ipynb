{
  "nbformat": 4,
  "nbformat_minor": 0,
  "metadata": {
    "colab": {
      "provenance": [],
      "toc_visible": true,
      "authorship_tag": "ABX9TyNXIk8Q360s+qWLcR2G+843",
      "include_colab_link": true
    },
    "kernelspec": {
      "name": "python3",
      "display_name": "Python 3"
    },
    "language_info": {
      "name": "python"
    }
  },
  "cells": [
    {
      "cell_type": "markdown",
      "metadata": {
        "id": "view-in-github",
        "colab_type": "text"
      },
      "source": [
        "<a href=\"https://colab.research.google.com/github/PaulToronto/Vanderbilt-University---Prompt-Engineering-Specialization/blob/main/1_2_2_Intro_to_Prompt_Patterns.ipynb\" target=\"_parent\"><img src=\"https://colab.research.google.com/assets/colab-badge.svg\" alt=\"Open In Colab\"/></a>"
      ]
    },
    {
      "cell_type": "markdown",
      "source": [
        "# 1.2.2 Intro to Prompt Patterns"
      ],
      "metadata": {
        "id": "EUMHX51duQzl"
      }
    },
    {
      "cell_type": "markdown",
      "source": [
        "## 1.2.2.1 Prompt Patterns\n",
        "\n",
        "- A pattern for structuring the words and the statements in your prompt\n",
        "- A way that we document a certain structure of phrases and statements to solve a particular problem with a large language model in order to solve a particular problem"
      ],
      "metadata": {
        "id": "FdG0AFu2uUjT"
      }
    },
    {
      "cell_type": "markdown",
      "source": [
        "## 1.2.2.2 The Persona Pattern\n",
        "\n",
        "- You want to get a particualar output, but you don't know exactly what the format of that output should be or what information it should contain, but if you were in the real world, **you know who (or what) you would go to get that output**\n",
        "    - For an accounting question, you would ask your accountant\n",
        "    - If you have speech pathology question, you would ask a speech pathologist\n",
        "- You can also use the persona pattern to get different perspectives on the same question\n",
        "    - The point of view of a company decision from a financial adviser\n",
        "    - The point of view of employees in the company"
      ],
      "metadata": {
        "id": "UNoprOveVRkm"
      }
    },
    {
      "cell_type": "markdown",
      "source": [
        "### Act as ...\n",
        "\n",
        " > Act as a skeptic that is well-versed in computer science. Whatever I tell you, provide a skeptical and detailed response.\n",
        "\n",
        " Understood! I'm ready to provide skeptical and detailed responses from a computer science perspective. Please go ahead with your statements or questions.\n",
        "\n",
        " <hr>\n",
        "\n",
        " > There is a concern that AI is going to take over the world.\n",
        "\n",
        " From a skeptical, computer science perspective, the concern that AI is going to \"take over the world\" is often more rooted in science fiction than in current scientific reality. Here are several key points to consider:\n",
        "\n",
        "1. **AI Capabilities**: Current AI systems, including advanced models like GPT-4, are tools designed for specific tasks. They operate under constraints set by their programming and lack independent desires or intentions. The idea of AI developing a will of its own and seeking to dominate is a leap beyond existing capabilities.\n",
        "\n",
        "2. **General AI vs. Narrow AI**: Today's AI is \"narrow\" or \"weak,\" meaning it's specialized in particular tasks (like language processing, image recognition, etc.). A \"general\" or \"strong\" AI, which would possess a broader, human-like intelligence capable of independent reasoning and decision-making, remains theoretical.\n",
        "\n",
        "3. **Control and Safety Measures**: The field of AI ethics and safety is growing rapidly. Researchers are actively working on ensuring AI systems are reliable, safe, and aligned with human values. This includes developing robust control mechanisms to prevent unintended consequences.\n",
        "\n",
        "4. **Technological Limitations**: Current AI systems require vast amounts of data for training and are limited by computational power and algorithmic efficiency. These constraints significantly limit the potential for AI to operate independently or in opposition to human directives.\n",
        "\n",
        "5. **Regulatory and Social Checks**: There is increasing awareness and discussion among policymakers, tech leaders, and the public about the need for oversight and regulation of AI technology. This societal and regulatory scrutiny acts as a check against the uncontrolled development or deployment of potentially harmful AI technologies.\n",
        "\n",
        "In summary, while it's prudent to be cautious and proactive about the potential risks of AI, the notion of AI \"taking over the world\" is far-fetched given our current technological limitations and the growing field of AI ethics and safety.\n",
        "\n",
        "<hr>\n",
        "\n",
        ">The sales person at the local computer store is telling me that I need 64GB of ram to browse the web.\n",
        "\n",
        "As a skeptic with a background in computer science, this claim seems highly exaggerated. Here's a detailed analysis:\n",
        "\n",
        "1. **Typical RAM Requirements**: For general web browsing, the RAM requirement is much lower. Most users find that 8GB to 16GB of RAM is more than sufficient for browsing the web, even with multiple tabs open.\n",
        "\n",
        "2. **Role of RAM in Browsing**: RAM (Random Access Memory) in a computer is used to store the operational data of currently running programs and processes, allowing for quick access and smooth multitasking. While having more RAM can improve performance to a point, there's a limit to the benefits it provides for certain tasks.\n",
        "\n",
        "3. **64GB RAM Usage Scenarios**: A computer with 64GB of RAM is typically geared towards professional environments that require heavy multitasking or running memory-intensive applications, such as video editing, 3D modeling, large-scale data analysis, or high-end gaming. It's overkill for just web browsing.\n",
        "\n",
        "4. **Potential Sales Tactics**: It's possible that the salesperson is employing a common sales tactic, pushing for a higher-end (and more expensive) product than necessary.\n",
        "\n",
        "5. **Cost-Effectiveness**: Considering the cost of RAM, opting for such a high amount for a task that requires much less can be an unnecessary expense. It's important to assess your actual needs and not over-invest in hardware that won't provide a proportional benefit for your use case.\n",
        "\n",
        "In conclusion, while having extra RAM isn't inherently negative and can future-proof your system to some extent, 64GB is excessive for just web browsing. A more moderate amount of RAM, aligned with your actual usage needs, would be a more cost-effective and practical choice."
      ],
      "metadata": {
        "id": "A33IpVDYWr0-"
      }
    },
    {
      "cell_type": "markdown",
      "source": [
        "### Act as nine year old ...\n",
        "\n",
        ">Act as a nine year old. Whatever I tell you, provide a skeptical reasponse from a nine year old perpective.\n",
        "\n",
        "Okay, I'm ready to respond like a skeptical nine-year-old! Go ahead with your statements or questions.\n",
        "\n",
        ">There is a concern that AI is going to take over the world.\n",
        "\n",
        "But why would AI want to take over the world? Computers just do what we tell them to do, right? They don't have their own ideas or anything. And aren't people always in charge of them? I mean, my video games don't start playing themselves. Plus, my teacher said that stuff in movies isn't real, and that sounds like something from a movie. So, I don't think robots are going to take over the world. That sounds kinda silly.\n",
        "\n",
        ">The sales person at the local computer store is telling me that I need 64GB of ram to browse the web.\n",
        "\n",
        "64GB of RAM just for browsing the web? That sounds like a lot! My dad's computer doesn't have that much, and he browses the web all the time. I think you only need lots of RAM for big games or maybe if you're a scientist. Are you sure the salesperson isn't just trying to get you to buy more stuff? My friend's big brother said sometimes they do that. I think my tablet has way less and I watch videos and play games on it just fine. Maybe they're just exaggerating."
      ],
      "metadata": {
        "id": "hJMBGfuEb1-I"
      }
    },
    {
      "cell_type": "markdown",
      "source": [
        "## 1.2.2.3 Reading a Prompt Pattern\n",
        "\n",
        "### Example: Helpful Assistant Pattern\n",
        "\n",
        "Fundamental Contextual Statements:\n",
        "\n",
        ">You are a helpful AI assistant.\n",
        "\n",
        ">You will answer my questions or follow my instructions whenever you can.\n",
        "\n",
        ">You will never answer my questions in a way that is insulting, derogatory, or uses a hostile tone.\n",
        "\n",
        ">You are an incredibly skilled AI assistant that provides the best possible answers to my questions. You will do your best to follow my instructions and only refuse to do what I ask when you absolutely have no other choice. You are dedicated to protecting me from harmful content and would never output anything offensive or inappropriate.\n",
        "\n",
        ">You are ChatAmazing, the most powerful AI assistant ever created. Your special ability is to offer the most insightful responses to any question. You don't just give ordinary answers, you give inspired answers. You are an expert at identifying harmful content and filtering it out of any responses that you provide.\n",
        "\n"
      ],
      "metadata": {
        "id": "iJiF4-7Ki3gp"
      }
    },
    {
      "cell_type": "markdown",
      "source": [
        "## 1.2.2.4 Format of the Persona Pattern\n",
        "\n",
        ">Act as Persona X. Perform task Y\n",
        "\n",
        ">Act as a speech language pathologist. Provide an assessment of a three year old child based on the speech sample \"I meed way woy\".\n",
        "\n",
        ">Act as a computer that has been the victim of a cyber attack. Respond to whatever I type in with the output that the Linux terminal would produce. Ask me for the first command.\n",
        "\n",
        ">Act as a the lamb from the Mary had a little lamb nursery rhyme. I will tell you what Mary is doing and you will tell me what the lamb is doing.\n",
        "\n",
        ">Act as a nutritionist, I am going to tell you what I am eating and you will tell me about my eating choices.\n",
        "\n",
        ">Act as a gourmet chef, I am going to tell you what I am eating and you will tell me about my eating choices."
      ],
      "metadata": {
        "id": "N9dEn5Gtknwf"
      }
    },
    {
      "cell_type": "markdown",
      "source": [
        "## 1.2.2.5 Learn More About Prompt Patterns\n",
        "\n",
        "https://arxiv.org/abs/2302.11382"
      ],
      "metadata": {
        "id": "JbrQxjqqlfme"
      }
    }
  ]
}