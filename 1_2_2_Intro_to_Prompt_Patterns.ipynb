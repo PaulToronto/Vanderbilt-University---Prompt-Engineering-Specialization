{
  "nbformat": 4,
  "nbformat_minor": 0,
  "metadata": {
    "colab": {
      "provenance": [],
      "authorship_tag": "ABX9TyOY8V6kv8H9Ht4t+lux15Rd",
      "include_colab_link": true
    },
    "kernelspec": {
      "name": "python3",
      "display_name": "Python 3"
    },
    "language_info": {
      "name": "python"
    }
  },
  "cells": [
    {
      "cell_type": "markdown",
      "metadata": {
        "id": "view-in-github",
        "colab_type": "text"
      },
      "source": [
        "<a href=\"https://colab.research.google.com/github/PaulToronto/Vanderbilt-University---Prompt-Engineering-Specialization/blob/main/1_2_2_Intro_to_Prompt_Patterns.ipynb\" target=\"_parent\"><img src=\"https://colab.research.google.com/assets/colab-badge.svg\" alt=\"Open In Colab\"/></a>"
      ]
    },
    {
      "cell_type": "markdown",
      "source": [
        "# 1.2.2 Intro to Prompt Patterns"
      ],
      "metadata": {
        "id": "EUMHX51duQzl"
      }
    },
    {
      "cell_type": "markdown",
      "source": [
        "## 1.2.2.1 Prompt Patterns"
      ],
      "metadata": {
        "id": "FdG0AFu2uUjT"
      }
    }
  ]
}