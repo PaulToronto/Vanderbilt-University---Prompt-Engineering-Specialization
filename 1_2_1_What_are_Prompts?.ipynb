{
  "nbformat": 4,
  "nbformat_minor": 0,
  "metadata": {
    "colab": {
      "provenance": [],
      "toc_visible": true,
      "authorship_tag": "ABX9TyM1OKu/l5nSdYReu8Z7j1mv",
      "include_colab_link": true
    },
    "kernelspec": {
      "name": "python3",
      "display_name": "Python 3"
    },
    "language_info": {
      "name": "python"
    }
  },
  "cells": [
    {
      "cell_type": "markdown",
      "metadata": {
        "id": "view-in-github",
        "colab_type": "text"
      },
      "source": [
        "<a href=\"https://colab.research.google.com/github/PaulToronto/Vanderbilt-University---Prompt-Engineering-Specialization/blob/main/1_2_1_What_are_Prompts%3F.ipynb\" target=\"_parent\"><img src=\"https://colab.research.google.com/assets/colab-badge.svg\" alt=\"Open In Colab\"/></a>"
      ]
    },
    {
      "cell_type": "markdown",
      "source": [
        "# 1.2.1 What are Prompts?"
      ],
      "metadata": {
        "id": "mL3D_3_dPfrf"
      }
    },
    {
      "cell_type": "markdown",
      "source": [
        "## 1.2.1.1 What is a prompt?\n",
        "\n",
        "- It's more than just a question\n",
        "- A prompt can also be used to provide new and update information\n",
        "\n",
        "### Prompt\n",
        "\n",
        "From now on, when I ask a question, suggest a better version of my question and ask me if I would like to use it.\n",
        "\n",
        "- The prompt above has an impact on all future questions in a session."
      ],
      "metadata": {
        "id": "XfnUVgOjPkWd"
      }
    },
    {
      "cell_type": "markdown",
      "source": [
        "## 1.2.1.2 Intuition Behind Prompts\n",
        "\n",
        "### Prompt:\n",
        "\n",
        "Complete this story: Mary had a little\n",
        "\n",
        "### Tips\n",
        "\n",
        "- ChatGPT is not a mind reader. Give it context\n",
        " - **\"with respect to\"**\n",
        "- The more specific our language, the more specific our output\n",
        " - may want to use specific words or phrases\n",
        "- `<shft>-Enter` for new line"
      ],
      "metadata": {
        "id": "0QfT0aNZaDI_"
      }
    },
    {
      "cell_type": "markdown",
      "source": [
        "## 1.2.1.3 Everyone Can \"Program\" with Prompts\n",
        "\n",
        "### Example:\n",
        "\n",
        "- User\n",
        "\n",
        "Whenever you generate output, turn it into a comma separated value list.\n",
        "\n",
        "Sure, I can format the output as a comma-separated value (CSV) list for you. Please provide the information or context you'd like me to generate, and I'll present it in CSV format.\n",
        "\n",
        "- User\n",
        "\n",
        "My name is Jules White and I am teaching a course on prompt engineering\n",
        "\n",
        "`Jules White, Teaching a course on prompt engineering`\n",
        "\n",
        "- User\n",
        "\n",
        "The columns of the CSV should be name, course and role\n",
        "\n",
        "`name, course, role`\n",
        "\n",
        "`Jules White, Prompt Engineering, Instructor`\n",
        "\n",
        "- User\n",
        "\n",
        "In addition to whatever I type in, generate additional examples that fit the format\n",
        "\n",
        "`name, course, role`\n",
        "\n",
        "`Alice Johnson, Data Science Fundamentals, Instructor`\n",
        "\n",
        "`David Smith, Web Development Basics, Teaching Assistant`\n",
        "\n",
        "`Emily Brown, Machine Learning Principles, Course Coordinator`\n",
        "\n",
        "`John Davis, Software Engineering Practices, Lecturer`\n",
        "\n",
        "`Rachel Miller, Cybersecurity Essentials, Guest Speaker`\n",
        "\n",
        "- User\n",
        "\n",
        "Please give me 100 more examples"
      ],
      "metadata": {
        "id": "dwd9OgqWni8A"
      }
    }
  ]
}