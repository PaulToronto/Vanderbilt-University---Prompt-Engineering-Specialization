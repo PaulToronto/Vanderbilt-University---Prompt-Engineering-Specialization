{
  "nbformat": 4,
  "nbformat_minor": 0,
  "metadata": {
    "colab": {
      "provenance": [],
      "authorship_tag": "ABX9TyMLsAjU1S7JwdKzGfdJIDyn",
      "include_colab_link": true
    },
    "kernelspec": {
      "name": "python3",
      "display_name": "Python 3"
    },
    "language_info": {
      "name": "python"
    }
  },
  "cells": [
    {
      "cell_type": "markdown",
      "metadata": {
        "id": "view-in-github",
        "colab_type": "text"
      },
      "source": [
        "<a href=\"https://colab.research.google.com/github/PaulToronto/Vanderbilt-University---Prompt-Engineering-Specialization/blob/main/1_1_1_Course_Overview.ipynb\" target=\"_parent\"><img src=\"https://colab.research.google.com/assets/colab-badge.svg\" alt=\"Open In Colab\"/></a>"
      ]
    },
    {
      "cell_type": "markdown",
      "source": [
        "# 1.1.1 Course Overview"
      ],
      "metadata": {
        "id": "UgtYt4TolVI1"
      }
    },
    {
      "cell_type": "markdown",
      "source": [
        "## 1.1.1.1 Motivating Example: Building a Meal Plan with a Fusion of Food from Ethiopia and Uzbekistan that is Keto"
      ],
      "metadata": {
        "id": "jFqJ8rvTleip"
      }
    },
    {
      "cell_type": "markdown",
      "source": [
        "### Prompt\n",
        "\n",
        "Please create a meal plan for my family that is based on a fusion of food from Ethiopia and Uzbekistan. I wanmt to eat Keto and up to 2000 calories per day. Pick dishes where the ingredients are easy to get from an average US grocery store."
      ],
      "metadata": {
        "id": "fnn_Vl7ilqY0"
      }
    },
    {
      "cell_type": "markdown",
      "source": [
        "## 1.1.1.2 Overview of the Course"
      ],
      "metadata": {
        "id": "KOVrcdTtu4nW"
      }
    }
  ]
}