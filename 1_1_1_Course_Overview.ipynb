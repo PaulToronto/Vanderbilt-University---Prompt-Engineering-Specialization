{
  "nbformat": 4,
  "nbformat_minor": 0,
  "metadata": {
    "colab": {
      "provenance": [],
      "toc_visible": true,
      "authorship_tag": "ABX9TyM2LHn4hEDndlvDpChfoxVu",
      "include_colab_link": true
    },
    "kernelspec": {
      "name": "python3",
      "display_name": "Python 3"
    },
    "language_info": {
      "name": "python"
    }
  },
  "cells": [
    {
      "cell_type": "markdown",
      "metadata": {
        "id": "view-in-github",
        "colab_type": "text"
      },
      "source": [
        "<a href=\"https://colab.research.google.com/github/PaulToronto/Vanderbilt-University---Prompt-Engineering-Specialization/blob/main/1_1_1_Course_Overview.ipynb\" target=\"_parent\"><img src=\"https://colab.research.google.com/assets/colab-badge.svg\" alt=\"Open In Colab\"/></a>"
      ]
    },
    {
      "cell_type": "markdown",
      "source": [
        "# 1.1.1 Course Overview"
      ],
      "metadata": {
        "id": "UgtYt4TolVI1"
      }
    },
    {
      "cell_type": "markdown",
      "source": [
        "## 1.1.1.1 Motivating Example: Building a Meal Plan with a Fusion of Food from Ethiopia and Uzbekistan that is Keto"
      ],
      "metadata": {
        "id": "jFqJ8rvTleip"
      }
    },
    {
      "cell_type": "markdown",
      "source": [
        "### Prompt\n",
        "\n",
        "Please create a meal plan for my family that is based on a fusion of food from Ethiopia and Uzbekistan. I wanmt to eat Keto and up to 2000 calories per day. Pick dishes where the ingredients are easy to get from an average US grocery store."
      ],
      "metadata": {
        "id": "fnn_Vl7ilqY0"
      }
    },
    {
      "cell_type": "markdown",
      "source": [
        "## 1.1.1.2 Overview of the Course\n",
        "\n",
        "The focus of this course is on prompt engineering.\n",
        "\n",
        "### Key Concepts\n",
        "\n",
        "1. Understanding what prompts are and how to use them to program LLMs to generate high-quality outputs\n",
        "2. Learning how to create effective prompts by tapping into patters from training data, being specific with our inputs, and using patterns such as:\n",
        "    - Persona Pattern\n",
        "    - Question Refinement\n",
        "    - Cognitive Verifier\n",
        "3. Understanding how to refine prompts and use techniques to achieve the desired output, such as:\n",
        "    - rewriting\n",
        "    - combining\n",
        "    - splitting\n",
        "    - expanding\n",
        "4. Learning how to use LLMs for various tasks, such as\n",
        "    - knowledge exploration\n",
        "    - prototyping\n",
        "    - content production\n",
        "    - assessment\n",
        "    - and more\n",
        "5. Understanding how to use **few-shot** examples to teach LLMs new tasks, and how to format these examples properly to achieve the desired output"
      ],
      "metadata": {
        "id": "KOVrcdTtu4nW"
      }
    },
    {
      "cell_type": "markdown",
      "source": [
        "## 1.1.1.3 Motivating Example: Act as a Speech Pathologist\n",
        "\n",
        "### Prompt\n",
        "\n",
        "Act as a speech pathologist. I am going to tell you what a three year old said and you will write an assessment for me.\n",
        "\n",
        "The child said:\n",
        "\n",
        "I meed way woy."
      ],
      "metadata": {
        "id": "I_50YcR23jJ8"
      }
    },
    {
      "cell_type": "markdown",
      "source": [
        "## 1.1.1.4 Setting up an Account and Using ChatGPT\n",
        "\n",
        "Don't forget to use the \"New Chat\" button in the top left corner. Earlier questions in an existing chat can influence the results."
      ],
      "metadata": {
        "id": "_tB9LS8Y9cUN"
      }
    }
  ]
}