{
  "nbformat": 4,
  "nbformat_minor": 0,
  "metadata": {
    "colab": {
      "provenance": [],
      "authorship_tag": "ABX9TyNEXsgCfqNl97qZjt9CDrEG",
      "include_colab_link": true
    },
    "kernelspec": {
      "name": "python3",
      "display_name": "Python 3"
    },
    "language_info": {
      "name": "python"
    }
  },
  "cells": [
    {
      "cell_type": "markdown",
      "metadata": {
        "id": "view-in-github",
        "colab_type": "text"
      },
      "source": [
        "<a href=\"https://colab.research.google.com/github/PaulToronto/Vanderbilt-University---Prompt-Engineering-Specialization/blob/main/1_1_2_Large_Language_Model_Basics.ipynb\" target=\"_parent\"><img src=\"https://colab.research.google.com/assets/colab-badge.svg\" alt=\"Open In Colab\"/></a>"
      ]
    },
    {
      "cell_type": "markdown",
      "source": [],
      "metadata": {
        "id": "-n9HyUyp_F0l"
      }
    },
    {
      "cell_type": "markdown",
      "source": [
        "# 1.1.2 Large Language Model Basics"
      ],
      "metadata": {
        "id": "rtThshBl_HW0"
      }
    },
    {
      "cell_type": "markdown",
      "source": [
        "## 1.1.2.1 What are Large Language Models?\n",
        "\n",
        "- They try to generate the \"next word\" or \"next token\" until it thinks it has generated enough.\n",
        "- These models are rapidly evolving\n",
        "- Outputs may not be perfect on the first try"
      ],
      "metadata": {
        "id": "cbCyQ8oH_N8h"
      }
    },
    {
      "cell_type": "markdown",
      "source": [
        "## 1.1.2.2 Randomness in Output\n",
        "\n",
        "- LLMs are unlikely to give you the same output every single time\n",
        "- LLMs can be unpredictable, but there are ways to constrain that unpredictability"
      ],
      "metadata": {
        "id": "6s_xpjG0Hw4l"
      }
    }
  ]
}